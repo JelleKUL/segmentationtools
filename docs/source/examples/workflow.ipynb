{
 "cells": [
  {
   "attachments": {},
   "cell_type": "markdown",
   "metadata": {},
   "source": [
    "# Texture-based separation to refine building meshes \n",
    "\n",
    "- Use Texture segmentation to separate the different materials in the meshes\n",
    "- Detect the edges on the texture\n",
    "- Convert the detected edges to hough lines\n",
    "- project the uv coordinates of the mesh onto the plane\n",
    "- Cut the triangles with the detected lines\n",
    "- Define the new faces with the edge boundaries\n"
   ]
  },
  {
   "cell_type": "code",
   "execution_count": null,
   "metadata": {},
   "outputs": [],
   "source": [
    "%load_ext autoreload\n",
    "%autoreload 2\n",
    "\n",
    "from context import segmentationtools\n",
    "import cv2\n",
    "import open3d as o3d\n",
    "import math\n",
    "import numpy as np\n",
    "import matplotlib.pyplot as plt"
   ]
  },
  {
   "cell_type": "code",
   "execution_count": null,
   "metadata": {},
   "outputs": [],
   "source": [
    "#import the 3D mesh\n",
    "meshPath = \"../../../localfiles/DemoHouse.obj\"\n",
    "mesh = o3d.io.read_triangle_mesh(meshPath, True)"
   ]
  },
  {
   "attachments": {},
   "cell_type": "markdown",
   "metadata": {},
   "source": [
    "## Texture Segmentation\n",
    "\n",
    "- We want to group textures and reduce their detail for better edge detection\n",
    "- use Factorisation based Texture segmentation\n"
   ]
  },
  {
   "cell_type": "code",
   "execution_count": null,
   "metadata": {},
   "outputs": [],
   "source": [
    "import segmentationtools.fseg as fseg\n",
    "\n",
    "texture = np.asarray(mesh.textures[0])\n",
    "grayTexture = cv2.resize(cv2.cvtColor(texture, cv2.COLOR_BGR2GRAY), (512, 512))\n",
    "\n",
    "# define filter bank and apply to image. for color images, convert rgb to grey scale and then apply filter bank\n",
    "filter_list = [('log', .5, [3, 3]), ('log', 1, [5, 5]),\n",
    "                ('gabor', 1.5, 0), ('gabor', 1.5, math.pi/2), ('gabor', 1.5, math.pi/4), ('gabor', 1.5, -math.pi/4),\n",
    "                ('gabor', 2.5, 0), ('gabor', 2.5, math.pi/2), ('gabor', 2.5, math.pi/4), ('gabor', 2.5, -math.pi/4)\n",
    "                ]\n",
    "filter_out = fseg.image_filtering(grayTexture, filter_list=filter_list)\n",
    "# include original image as one band\n",
    "Ig = np.concatenate((np.float32(grayTexture.reshape((grayTexture.shape[0], grayTexture.shape[1], 1))), filter_out), axis=2)\n",
    "# run segmentation. try different window size, with and without nonneg constraints\n",
    "segmentedTexture = fseg.Fseg(Ig, ws=10, segn=0, omega=.2, nonneg_constraint=False)"
   ]
  },
  {
   "cell_type": "code",
   "execution_count": null,
   "metadata": {},
   "outputs": [],
   "source": [
    "# show results\n",
    "fig, ax = plt.subplots(ncols=2, sharex=True, sharey=True, figsize=(12, 6))\n",
    "ax[0].imshow(grayTexture, cmap='gray')\n",
    "ax[1].imshow(segmentedTexture)\n",
    "plt.tight_layout()\n",
    "plt.show()"
   ]
  },
  {
   "cell_type": "code",
   "execution_count": null,
   "metadata": {},
   "outputs": [],
   "source": [
    "\n",
    "a = segmentedTexture\n",
    "segmentedMappedTexture = np.round(np.interp(a, (a.min(), a.max()), (0, 255))).astype(np.uint8)\n"
   ]
  },
  {
   "attachments": {},
   "cell_type": "markdown",
   "metadata": {},
   "source": [
    "## Edge Detection\n",
    "\n",
    "- The patched image is pefect to detect the boundaries of the textures\n",
    "- Use canny or HED edge detection\n",
    "- Find the hough lines to get straight lines in the dtected edges"
   ]
  },
  {
   "cell_type": "code",
   "execution_count": null,
   "metadata": {},
   "outputs": [],
   "source": [
    "# perform Canny edge tedection to find sharp gradients\n",
    "dst = cv2.Canny(segmentedMappedTexture, 100, 300, None, 3)\n",
    "dstp = cv2.cvtColor(dst, cv2.COLOR_GRAY2BGR)\n",
    "\n",
    "segmentationtools.show_img(dstp)"
   ]
  },
  {
   "cell_type": "code",
   "execution_count": null,
   "metadata": {},
   "outputs": [],
   "source": [
    "dstp2 = cv2.cvtColor(dst, cv2.COLOR_GRAY2BGR)\n",
    "linesP = cv2.HoughLinesP(dst, 1, np.pi / 360, 30, None, 0, 0)\n",
    "\n",
    "if linesP is not None:\n",
    "    for i in range(0, len(linesP)):\n",
    "        l = linesP[i][0]\n",
    "        cv2.line(dstp2, (l[0], l[1]), (l[2], l[3]), (0,0,255), 3, cv2.LINE_AA)\n",
    "\n",
    "segmentationtools.show_img(dstp2)"
   ]
  },
  {
   "cell_type": "code",
   "execution_count": null,
   "metadata": {},
   "outputs": [],
   "source": [
    "# Lets apply Standard HoughLine transform to detect lines\n",
    "dstp2 = cv2.cvtColor(dst, cv2.COLOR_GRAY2BGR)\n",
    "lines = cv2.HoughLines(dst, 2, np.pi / 120, 150, None, 0, 0)\n",
    "print(lines)\n",
    "# Below we will display the result by drawing lines\n",
    "if lines is not None:\n",
    "    for i in range(0, len(lines)):\n",
    "        rho = lines[i][0][0]\n",
    "        theta = lines[i][0][1]\n",
    "        a = math.cos(theta)\n",
    "        b = math.sin(theta)\n",
    "        x0 = a * rho\n",
    "        y0 = b * rho\n",
    "        pt1 = (int(x0 + 1000 * (-b)), int(y0 + 1000 * (a)))\n",
    "        pt2 = (int(x0 - 1000 * (-b)), int(y0 - 1000 * (a)))\n",
    "        cv2.line(dstp2, pt1, pt2, (0, 0, 255), 3, cv2.LINE_AA)\n",
    "\n",
    "segmentationtools.show_img(dstp2)"
   ]
  },
  {
   "attachments": {},
   "cell_type": "markdown",
   "metadata": {},
   "source": [
    "## Face Slicing\n",
    "\n",
    "- slice the triangles that are in the path of the new lines\n",
    "- check for continuity in adjacent faces to continue the line"
   ]
  },
  {
   "cell_type": "code",
   "execution_count": null,
   "metadata": {},
   "outputs": [],
   "source": [
    "# Plot the triangles on the uv plane\n",
    "# Scale the uv coordinates with the image dimensions\n",
    "uvPoints = np.asarray(mesh.triangle_uvs) * np.array([segmentedMappedTexture.shape[1],segmentedMappedTexture.shape[0]])\n",
    "print(\"UV coordinates: \\n\", len(uvPoints))\n",
    "print(\"nr of vertices: \\n\", len(mesh.vertices))\n",
    "plt.imshow(segmentedMappedTexture)\n",
    "\n",
    "for i in range((int)(len(uvPoints)/3)):\n",
    "    plt.fill(*zip(*uvPoints[3*i:3*i+3]), facecolor='none', edgecolor='orangered', linewidth=1)\n",
    "plt.title('UV Layout')\n",
    "plt.show()"
   ]
  },
  {
   "cell_type": "code",
   "execution_count": null,
   "metadata": {},
   "outputs": [],
   "source": [
    "import segmentationtools as st\n",
    "points = []\n",
    "\n",
    "lineNr = 0\n",
    "\n",
    "for i in range((int)(len(uvPoints)/3)):\n",
    "    newPoints = st.find_triangle_intersection(uvPoints[3*i:3*i+3], st.get_edge_points(lines[lineNr], segmentedMappedTexture.shape[1], segmentedMappedTexture.shape[0]))\n",
    "    if (newPoints is not None): \n",
    "        points.append(newPoints)\n",
    "\n",
    "points = np.array(points).reshape((-1,2)) #reshape to a nx2 array\n",
    "print(\"The resulting intersection points are: \\n\", points)\n",
    "\n",
    "rho = lines[lineNr][0][0]\n",
    "theta = lines[lineNr][0][1]\n",
    "a = math.cos(theta)\n",
    "b = math.sin(theta)\n",
    "x0 = a * rho\n",
    "y0 = b * rho\n",
    "pt1 = (int(x0 + 1000 * (-b)), int(y0 + 1000 * (a)))\n",
    "pt2 = (int(x0 - 1000 * (-b)), int(y0 - 1000 * (a)))\n",
    "cv2.line(segmentedMappedTexture, pt1, pt2, (0, 0, 255), 3, cv2.LINE_AA)\n",
    "\n",
    "plt.imshow(segmentedMappedTexture)\n",
    "plt.scatter(*zip(*points))\n",
    "plt.title('my picture')\n",
    "plt.show()\n"
   ]
  },
  {
   "cell_type": "code",
   "execution_count": null,
   "metadata": {},
   "outputs": [],
   "source": [
    "# Perform the triangle slicing algorithm for each triangle seperatly\n",
    "import segmentationtools\n",
    "uv_coords = np.asarray(mesh.triangle_uvs) * np.array([segmentedMappedTexture.shape[1],segmentedMappedTexture.shape[0]])\n",
    "verts = np.asarray(mesh.vertices)\n",
    "bounds = [segmentedMappedTexture.shape[1], segmentedMappedTexture.shape[0]]\n",
    "edgePoints = st.get_edge_points(lines[lineNr],bounds[0], bounds[1])\n",
    "\n",
    "new_vertices = []\n",
    "new_uvs = []\n",
    "new_triangles = []\n",
    "\n",
    "for triangle in mesh.triangles:\n",
    "    print(triangle)\n",
    "    points_uv = np.array([uv_coords[triangle[0]],uv_coords[triangle[1]],uv_coords[triangle[2]]])\n",
    "    points_3d = np.array([verts[triangle[0]],verts[triangle[1]],verts[triangle[2]]])\n",
    "    #print(points_uv)\n",
    "    #print(points_uv.shape, edgePoints.shape)\n",
    "    newTriangles,newTriangles_3d  = st.cut_triangle(points_uv, edgePoints, points_3d)\n",
    "    if (len(newTriangles) == 3): \n",
    "        print(\"Got an intersection\")\n",
    "        print(newTriangles,newTriangles_3d)\n",
    "\n"
   ]
  },
  {
   "cell_type": "code",
   "execution_count": null,
   "metadata": {},
   "outputs": [],
   "source": [
    "# I have a list of new triangles, both with uv coordinates and 3d coordinates\n",
    "# To put them back in the mesh in need:\n",
    "# Get a list of the new points and uv coordinates\n",
    "# Add them to the existing mesh list\n",
    "# Remove the old triangles and replace them with new indexes"
   ]
  },
  {
   "attachments": {},
   "cell_type": "markdown",
   "metadata": {},
   "source": [
    "## Object Segmentation\n",
    "\n",
    "- use the texture blobs and adjacent faces region growing to segment the different objects"
   ]
  },
  {
   "cell_type": "code",
   "execution_count": null,
   "metadata": {},
   "outputs": [],
   "source": [
    "import segmentationtools as st\n",
    "mesh.textures = [o3d.geometry.Image(cv2.cvtColor(segmentedMappedTexture, cv2.COLOR_GRAY2RGB))]\n",
    "print(mesh.textures)\n"
   ]
  },
  {
   "cell_type": "code",
   "execution_count": null,
   "metadata": {},
   "outputs": [],
   "source": [
    "st.show_geometries([mesh])"
   ]
  },
  {
   "cell_type": "code",
   "execution_count": null,
   "metadata": {},
   "outputs": [],
   "source": [
    "# split the mesh based on the texture color and adjacency\n",
    "\n",
    "# open3d adjacency list to get neighbouring verteces"
   ]
  }
 ],
 "metadata": {
  "kernelspec": {
   "display_name": "env",
   "language": "python",
   "name": "python3"
  },
  "language_info": {
   "codemirror_mode": {
    "name": "ipython",
    "version": 3
   },
   "file_extension": ".py",
   "mimetype": "text/x-python",
   "name": "python",
   "nbconvert_exporter": "python",
   "pygments_lexer": "ipython3",
   "version": "3.9.13"
  },
  "orig_nbformat": 4,
  "vscode": {
   "interpreter": {
    "hash": "63e16adb41d845018f453310395f8a2bb790f6a07878dc16c794e59e416002f2"
   }
  }
 },
 "nbformat": 4,
 "nbformat_minor": 2
}
